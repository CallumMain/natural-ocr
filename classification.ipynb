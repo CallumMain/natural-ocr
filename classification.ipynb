{
 "cells": [
  {
   "cell_type": "code",
   "execution_count": 1,
   "metadata": {
    "collapsed": true
   },
   "outputs": [],
   "source": [
    "import numpy as np\n",
    "import pandas as pd\n",
    "from glob import glob\n",
    "\n",
    "import matplotlib.pyplot as plt\n",
    "\n",
    "from sklearn.svm import SVC\n",
    "from sklearn.cross_validation import train_test_split\n",
    "from sklearn.metrics import confusion_matrix, classification_report\n",
    "from sklearn.neighbors import KNeighborsClassifier\n",
    "from sklearn.decomposition import PCA\n",
    "from sklearn.grid_search import GridSearchCV\n",
    "from sklearn.ensemble import GradientBoostingClassifier, RandomForestClassifier\n",
    "\n",
    "import string"
   ]
  },
  {
   "cell_type": "code",
   "execution_count": 2,
   "metadata": {
    "collapsed": true
   },
   "outputs": [],
   "source": [
    "dirlist = glob(\"blurred_images2/*\")"
   ]
  },
  {
   "cell_type": "code",
   "execution_count": 3,
   "metadata": {
    "collapsed": false
   },
   "outputs": [],
   "source": [
    "target_names = list(string.digits + string.ascii_uppercase + string.ascii_lowercase)"
   ]
  },
  {
   "cell_type": "code",
   "execution_count": 4,
   "metadata": {
    "collapsed": true
   },
   "outputs": [],
   "source": [
    "def load_images(files):\n",
    "    images = []\n",
    "    total = 0\n",
    "    for f in files:\n",
    "        image = np.load(f)\n",
    "        images.append(image.flatten())\n",
    "        total += 1\n",
    "        if total >= 50:\n",
    "            break\n",
    "    return images"
   ]
  },
  {
   "cell_type": "code",
   "execution_count": 5,
   "metadata": {
    "collapsed": false
   },
   "outputs": [],
   "source": [
    "data = []\n",
    "target = []\n",
    "for cls, dr in enumerate(dirlist):\n",
    "    f = glob(dr + \"/*.npy\")\n",
    "    images = load_images(f)\n",
    "    for im in images:\n",
    "        data.append(im)\n",
    "        target.append(cls)"
   ]
  },
  {
   "cell_type": "code",
   "execution_count": 6,
   "metadata": {
    "collapsed": false
   },
   "outputs": [
    {
     "data": {
      "text/html": [
       "<div style=\"max-height:1000px;max-width:1500px;overflow:auto;\">\n",
       "<table border=\"1\" class=\"dataframe\">\n",
       "  <thead>\n",
       "    <tr style=\"text-align: right;\">\n",
       "      <th></th>\n",
       "      <th>0</th>\n",
       "      <th>1</th>\n",
       "      <th>2</th>\n",
       "      <th>3</th>\n",
       "      <th>4</th>\n",
       "      <th>5</th>\n",
       "      <th>6</th>\n",
       "      <th>7</th>\n",
       "      <th>8</th>\n",
       "      <th>9</th>\n",
       "      <th>...</th>\n",
       "      <th>390</th>\n",
       "      <th>391</th>\n",
       "      <th>392</th>\n",
       "      <th>393</th>\n",
       "      <th>394</th>\n",
       "      <th>395</th>\n",
       "      <th>396</th>\n",
       "      <th>397</th>\n",
       "      <th>398</th>\n",
       "      <th>399</th>\n",
       "    </tr>\n",
       "  </thead>\n",
       "  <tbody>\n",
       "    <tr>\n",
       "      <th>0</th>\n",
       "      <td>3.409273e-05</td>\n",
       "      <td>5.181713e-04</td>\n",
       "      <td>0.004287</td>\n",
       "      <td>0.018051</td>\n",
       "      <td>0.039703</td>\n",
       "      <td>0.062077</td>\n",
       "      <td>0.110258</td>\n",
       "      <td>0.185471</td>\n",
       "      <td>0.230964</td>\n",
       "      <td>0.241113</td>\n",
       "      <td>...</td>\n",
       "      <td>0.241971</td>\n",
       "      <td>0.241946</td>\n",
       "      <td>0.241113</td>\n",
       "      <td>0.230957</td>\n",
       "      <td>0.185252</td>\n",
       "      <td>0.107569</td>\n",
       "      <td>0.049878</td>\n",
       "      <td>1.890557e-02</td>\n",
       "      <td>0.004291</td>\n",
       "      <td>0.000493</td>\n",
       "    </tr>\n",
       "    <tr>\n",
       "      <th>1</th>\n",
       "      <td>5.529355e-01</td>\n",
       "      <td>3.357988e-01</td>\n",
       "      <td>0.194872</td>\n",
       "      <td>0.198821</td>\n",
       "      <td>0.231904</td>\n",
       "      <td>0.241139</td>\n",
       "      <td>0.241946</td>\n",
       "      <td>0.241971</td>\n",
       "      <td>0.241971</td>\n",
       "      <td>0.241971</td>\n",
       "      <td>...</td>\n",
       "      <td>0.241946</td>\n",
       "      <td>0.241113</td>\n",
       "      <td>0.230964</td>\n",
       "      <td>0.185471</td>\n",
       "      <td>0.110258</td>\n",
       "      <td>0.062084</td>\n",
       "      <td>0.039728</td>\n",
       "      <td>1.807247e-02</td>\n",
       "      <td>0.004266</td>\n",
       "      <td>0.000493</td>\n",
       "    </tr>\n",
       "    <tr>\n",
       "      <th>2</th>\n",
       "      <td>0.000000e+00</td>\n",
       "      <td>1.791064e-08</td>\n",
       "      <td>0.000001</td>\n",
       "      <td>0.000027</td>\n",
       "      <td>0.000299</td>\n",
       "      <td>0.001637</td>\n",
       "      <td>0.006893</td>\n",
       "      <td>0.030081</td>\n",
       "      <td>0.095571</td>\n",
       "      <td>0.182575</td>\n",
       "      <td>...</td>\n",
       "      <td>0.107563</td>\n",
       "      <td>0.049852</td>\n",
       "      <td>0.018885</td>\n",
       "      <td>0.004312</td>\n",
       "      <td>0.000518</td>\n",
       "      <td>0.000034</td>\n",
       "      <td>0.000001</td>\n",
       "      <td>1.791064e-08</td>\n",
       "      <td>0.000000</td>\n",
       "      <td>0.000000</td>\n",
       "    </tr>\n",
       "    <tr>\n",
       "      <th>3</th>\n",
       "      <td>2.746018e-05</td>\n",
       "      <td>4.930137e-04</td>\n",
       "      <td>0.004291</td>\n",
       "      <td>0.018967</td>\n",
       "      <td>0.051966</td>\n",
       "      <td>0.134359</td>\n",
       "      <td>0.322744</td>\n",
       "      <td>0.550966</td>\n",
       "      <td>0.671824</td>\n",
       "      <td>0.697297</td>\n",
       "      <td>...</td>\n",
       "      <td>0.695294</td>\n",
       "      <td>0.672596</td>\n",
       "      <td>0.561115</td>\n",
       "      <td>0.368229</td>\n",
       "      <td>0.209353</td>\n",
       "      <td>0.097452</td>\n",
       "      <td>0.029116</td>\n",
       "      <td>5.124576e-03</td>\n",
       "      <td>0.000518</td>\n",
       "      <td>0.000027</td>\n",
       "    </tr>\n",
       "    <tr>\n",
       "      <th>4</th>\n",
       "      <td>1.791064e-08</td>\n",
       "      <td>1.186238e-06</td>\n",
       "      <td>0.000034</td>\n",
       "      <td>0.000518</td>\n",
       "      <td>0.004312</td>\n",
       "      <td>0.018885</td>\n",
       "      <td>0.049852</td>\n",
       "      <td>0.107563</td>\n",
       "      <td>0.185226</td>\n",
       "      <td>0.230099</td>\n",
       "      <td>...</td>\n",
       "      <td>0.053985</td>\n",
       "      <td>0.053765</td>\n",
       "      <td>0.051076</td>\n",
       "      <td>0.038870</td>\n",
       "      <td>0.018047</td>\n",
       "      <td>0.004266</td>\n",
       "      <td>0.000493</td>\n",
       "      <td>2.746018e-05</td>\n",
       "      <td>0.000001</td>\n",
       "      <td>0.000000</td>\n",
       "    </tr>\n",
       "  </tbody>\n",
       "</table>\n",
       "<p>5 rows × 400 columns</p>\n",
       "</div>"
      ],
      "text/plain": [
       "            0             1         2         3         4         5    \\\n",
       "0  3.409273e-05  5.181713e-04  0.004287  0.018051  0.039703  0.062077   \n",
       "1  5.529355e-01  3.357988e-01  0.194872  0.198821  0.231904  0.241139   \n",
       "2  0.000000e+00  1.791064e-08  0.000001  0.000027  0.000299  0.001637   \n",
       "3  2.746018e-05  4.930137e-04  0.004291  0.018967  0.051966  0.134359   \n",
       "4  1.791064e-08  1.186238e-06  0.000034  0.000518  0.004312  0.018885   \n",
       "\n",
       "        6         7         8         9      ...          390       391  \\\n",
       "0  0.110258  0.185471  0.230964  0.241113    ...     0.241971  0.241946   \n",
       "1  0.241946  0.241971  0.241971  0.241971    ...     0.241946  0.241113   \n",
       "2  0.006893  0.030081  0.095571  0.182575    ...     0.107563  0.049852   \n",
       "3  0.322744  0.550966  0.671824  0.697297    ...     0.695294  0.672596   \n",
       "4  0.049852  0.107563  0.185226  0.230099    ...     0.053985  0.053765   \n",
       "\n",
       "        392       393       394       395       396           397       398  \\\n",
       "0  0.241113  0.230957  0.185252  0.107569  0.049878  1.890557e-02  0.004291   \n",
       "1  0.230964  0.185471  0.110258  0.062084  0.039728  1.807247e-02  0.004266   \n",
       "2  0.018885  0.004312  0.000518  0.000034  0.000001  1.791064e-08  0.000000   \n",
       "3  0.561115  0.368229  0.209353  0.097452  0.029116  5.124576e-03  0.000518   \n",
       "4  0.051076  0.038870  0.018047  0.004266  0.000493  2.746018e-05  0.000001   \n",
       "\n",
       "        399  \n",
       "0  0.000493  \n",
       "1  0.000493  \n",
       "2  0.000000  \n",
       "3  0.000027  \n",
       "4  0.000000  \n",
       "\n",
       "[5 rows x 400 columns]"
      ]
     },
     "execution_count": 6,
     "metadata": {},
     "output_type": "execute_result"
    }
   ],
   "source": [
    "image_df = pd.DataFrame(data)\n",
    "image_df.head()"
   ]
  },
  {
   "cell_type": "code",
   "execution_count": 7,
   "metadata": {
    "collapsed": false
   },
   "outputs": [
    {
     "data": {
      "text/html": [
       "<div style=\"max-height:1000px;max-width:1500px;overflow:auto;\">\n",
       "<table border=\"1\" class=\"dataframe\">\n",
       "  <thead>\n",
       "    <tr style=\"text-align: right;\">\n",
       "      <th></th>\n",
       "      <th>class</th>\n",
       "    </tr>\n",
       "  </thead>\n",
       "  <tbody>\n",
       "    <tr>\n",
       "      <th>0</th>\n",
       "      <td>0</td>\n",
       "    </tr>\n",
       "    <tr>\n",
       "      <th>1</th>\n",
       "      <td>0</td>\n",
       "    </tr>\n",
       "    <tr>\n",
       "      <th>2</th>\n",
       "      <td>0</td>\n",
       "    </tr>\n",
       "    <tr>\n",
       "      <th>3</th>\n",
       "      <td>0</td>\n",
       "    </tr>\n",
       "    <tr>\n",
       "      <th>4</th>\n",
       "      <td>0</td>\n",
       "    </tr>\n",
       "  </tbody>\n",
       "</table>\n",
       "</div>"
      ],
      "text/plain": [
       "   class\n",
       "0      0\n",
       "1      0\n",
       "2      0\n",
       "3      0\n",
       "4      0"
      ]
     },
     "execution_count": 7,
     "metadata": {},
     "output_type": "execute_result"
    }
   ],
   "source": [
    "target_df = pd.DataFrame(target, columns=[\"class\"])\n",
    "target_df.head()"
   ]
  },
  {
   "cell_type": "code",
   "execution_count": 8,
   "metadata": {
    "collapsed": true
   },
   "outputs": [],
   "source": [
    "X_train, X_test, y_train, y_test = train_test_split(image_df, target, test_size=0.2)"
   ]
  },
  {
   "cell_type": "code",
   "execution_count": 9,
   "metadata": {
    "collapsed": false
   },
   "outputs": [
    {
     "data": {
      "text/plain": [
       "SVC(C=1000, cache_size=200, class_weight='auto', coef0=0.0, degree=2,\n",
       "  gamma=0.0, kernel='poly', max_iter=-1, probability=False,\n",
       "  random_state=None, shrinking=True, tol=0.001, verbose=False)"
      ]
     },
     "execution_count": 9,
     "metadata": {},
     "output_type": "execute_result"
    }
   ],
   "source": [
    "svm = SVC(kernel='poly', degree=2, C=1000, class_weight='auto')\n",
    "svm.fit(X_train, y_train)\n",
    "#neigh = KNeighborsClassifier(n_neighbors=5)\n",
    "#neigh.fit(X_train, y_train) "
   ]
  },
  {
   "cell_type": "code",
   "execution_count": 10,
   "metadata": {
    "collapsed": false
   },
   "outputs": [
    {
     "name": "stdout",
     "output_type": "stream",
     "text": [
      "             precision    recall  f1-score   support\n",
      "\n",
      "          0       0.43      0.21      0.29        14\n",
      "          1       0.60      0.38      0.46         8\n",
      "          2       0.80      0.67      0.73         6\n",
      "          3       1.00      1.00      1.00         7\n",
      "          4       1.00      0.82      0.90        11\n",
      "          5       0.56      0.62      0.59         8\n",
      "          6       1.00      0.60      0.75        10\n",
      "          7       0.79      0.92      0.85        12\n",
      "          8       1.00      0.56      0.71         9\n",
      "          9       0.83      0.83      0.83         6\n",
      "          A       0.88      0.88      0.88        16\n",
      "          B       0.80      0.89      0.84         9\n",
      "          C       0.62      0.91      0.74        11\n",
      "          D       0.90      0.90      0.90        10\n",
      "          E       0.92      0.79      0.85        14\n",
      "          F       0.64      0.90      0.75        10\n",
      "          G       0.86      0.75      0.80         8\n",
      "          H       0.60      0.75      0.67         8\n",
      "          I       0.40      0.20      0.27        10\n",
      "          J       0.50      0.56      0.53         9\n",
      "          K       0.78      0.88      0.82         8\n",
      "          L       0.90      0.90      0.90        10\n",
      "          M       0.83      0.62      0.71         8\n",
      "          N       0.78      1.00      0.88         7\n",
      "          O       0.15      0.33      0.21         6\n",
      "          P       0.82      0.82      0.82        11\n",
      "          Q       0.43      0.50      0.46         6\n",
      "          R       0.89      0.80      0.84        10\n",
      "          S       0.62      0.50      0.56        10\n",
      "          T       1.00      0.82      0.90        11\n",
      "          U       0.57      0.50      0.53         8\n",
      "          V       0.78      1.00      0.88         7\n",
      "          W       0.60      0.33      0.43         9\n",
      "          X       0.69      0.61      0.65        18\n",
      "          Y       0.92      0.92      0.92        12\n",
      "          Z       0.55      0.50      0.52        12\n",
      "          a       0.88      0.58      0.70        12\n",
      "          b       0.88      0.88      0.88         8\n",
      "          c       0.75      0.33      0.46         9\n",
      "          d       0.92      0.85      0.88        13\n",
      "          e       0.92      0.92      0.92        12\n",
      "          f       0.89      0.73      0.80        11\n",
      "          g       0.62      0.83      0.71         6\n",
      "          h       0.91      0.91      0.91        11\n",
      "          i       0.75      1.00      0.86         9\n",
      "          j       0.00      0.00      0.00         5\n",
      "          k       0.67      0.50      0.57         4\n",
      "          l       0.24      0.67      0.35         9\n",
      "          m       0.75      1.00      0.86         6\n",
      "          n       0.77      1.00      0.87        10\n",
      "          o       0.20      0.25      0.22        12\n",
      "          p       0.50      0.50      0.50         4\n",
      "          q       0.38      0.38      0.38         8\n",
      "          r       0.77      0.83      0.80        12\n",
      "          s       0.69      0.75      0.72        12\n",
      "          t       1.00      0.92      0.96        12\n",
      "          u       0.33      0.25      0.29         4\n",
      "          v       1.00      0.60      0.75         5\n",
      "          w       0.20      0.20      0.20         5\n",
      "          x       0.25      0.29      0.27         7\n",
      "          y       0.71      0.83      0.77         6\n",
      "          z       0.50      0.29      0.36         7\n",
      "\n",
      "avg / total       0.72      0.69      0.69       568\n",
      "\n"
     ]
    }
   ],
   "source": [
    "y_pred = svm.predict(X_test)\n",
    "print(classification_report(y_test, y_pred, target_names=target_names))"
   ]
  },
  {
   "cell_type": "code",
   "execution_count": 11,
   "metadata": {
    "collapsed": true
   },
   "outputs": [],
   "source": [
    "def plot_confusion_matrix(cm, title='Confusion matrix', cmap=plt.cm.Blues):\n",
    "    plt.imshow(cm, interpolation='nearest', cmap=cmap, aspect='auto')\n",
    "    plt.title(title)\n",
    "    plt.colorbar()\n",
    "    tick_marks = np.arange(len(target_names))\n",
    "    plt.xticks(tick_marks, target_names, rotation=45)\n",
    "    plt.yticks(tick_marks, target_names)\n",
    "    plt.tight_layout()\n",
    "    plt.ylabel('True label')\n",
    "    plt.xlabel('Predicted label')"
   ]
  },
  {
   "cell_type": "code",
   "execution_count": 12,
   "metadata": {
    "collapsed": false
   },
   "outputs": [
    {
     "name": "stdout",
     "output_type": "stream",
     "text": [
      "Confusion matrix, without normalization\n",
      "[[3 0 0 ..., 0 0 0]\n",
      " [0 3 0 ..., 1 0 0]\n",
      " [0 0 4 ..., 0 0 0]\n",
      " ..., \n",
      " [0 0 0 ..., 2 0 0]\n",
      " [0 1 0 ..., 0 5 0]\n",
      " [0 0 1 ..., 0 0 2]]\n"
     ]
    },
    {
     "data": {
      "image/png": "[encoded data removed]",
      "text/plain": [
       "<matplotlib.figure.Figure at 0x108e814d0>"
      ]
     },
     "metadata": {},
     "output_type": "display_data"
    }
   ],
   "source": [
    "%matplotlib inline\n",
    "# Compute confusion matrix\n",
    "cm = confusion_matrix(y_test, y_pred)\n",
    "np.set_printoptions(precision=2)\n",
    "print('Confusion matrix, without normalization')\n",
    "print(cm)\n",
    "plt.figure(figsize=(10,10))\n",
    "plot_confusion_matrix(cm)"
   ]
  },
  {
   "cell_type": "code",
   "execution_count": 13,
   "metadata": {
    "collapsed": false
   },
   "outputs": [
    {
     "data": {
      "text/plain": [
       "0.84808454425363278"
      ]
     },
     "execution_count": 13,
     "metadata": {},
     "output_type": "execute_result"
    }
   ],
   "source": [
    "svm.score(X_train, y_train)"
   ]
  },
  {
   "cell_type": "code",
   "execution_count": 66,
   "metadata": {
    "collapsed": false
   },
   "outputs": [],
   "source": [
    "cm_df = pd.DataFrame(cm, index=target_names, columns=target_names)"
   ]
  },
  {
   "cell_type": "code",
   "execution_count": 67,
   "metadata": {
    "collapsed": false
   },
   "outputs": [],
   "source": [
    "cm_df.to_csv('confusion_matrix.csv')"
   ]
  },
  {
   "cell_type": "code",
   "execution_count": 14,
   "metadata": {
    "collapsed": false
   },
   "outputs": [
    {
     "data": {
      "text/plain": [
       "0.68838028169014087"
      ]
     },
     "execution_count": 14,
     "metadata": {},
     "output_type": "execute_result"
    }
   ],
   "source": [
    "svm.score(X_test, y_test)"
   ]
  },
  {
   "cell_type": "code",
   "execution_count": 15,
   "metadata": {
    "collapsed": false
   },
   "outputs": [
    {
     "name": "stdout",
     "output_type": "stream",
     "text": [
      "# Tuning hyper-parameters for: precision\n",
      "Best parameters set found on development set:\n",
      "{'kernel': 'poly', 'C': 1000, 'degree': 2}\n",
      "Grid scores on development set:\n",
      "0.00241440464538 0.00368478058697 {'kernel': 'rbf', 'C': 1, 'gamma': 0.001}\n",
      "0.00241873508496 0.00370266829054 {'kernel': 'rbf', 'C': 1, 'gamma': 0.0001}\n",
      "0.534107125644 0.0397810549644 {'kernel': 'rbf', 'C': 10, 'gamma': 0.001}\n",
      "0.00241873508496 0.00370266829054 {'kernel': 'rbf', 'C': 10, 'gamma': 0.0001}\n",
      "0.707512491257 0.0223229804589 {'kernel': 'rbf', 'C': 100, 'gamma': 0.001}\n",
      "0.535045489266 0.0377970889006 {'kernel': 'rbf', 'C': 100, 'gamma': 0.0001}\n",
      "0.705860301815 0.0385470318053 {'kernel': 'rbf', 'C': 1000, 'gamma': 0.001}\n",
      "0.708464878075 0.0205704393728 {'kernel': 'rbf', 'C': 1000, 'gamma': 0.0001}\n",
      "0.701134761075 0.0429506623917 {'kernel': 'linear', 'C': 1}\n",
      "0.692643665273 0.0391317116232 {'kernel': 'linear', 'C': 10}\n",
      "0.688963610692 0.0416304840506 {'kernel': 'linear', 'C': 100}\n",
      "0.688963610692 0.0416304840506 {'kernel': 'linear', 'C': 1000}\n",
      "0.00261507139106 0.00343002356242 {'kernel': 'poly', 'C': 1, 'degree': 2}\n",
      "0.00323478141556 0.00506586649559 {'kernel': 'poly', 'C': 1, 'degree': 3}\n",
      "0.00378348574932 0.00637455117658 {'kernel': 'poly', 'C': 1, 'degree': 4}\n",
      "0.00641200792315 0.0156368018802 {'kernel': 'poly', 'C': 1, 'degree': 5}\n",
      "0.00261507139106 0.00343002356242 {'kernel': 'poly', 'C': 10, 'degree': 2}\n",
      "0.00323478141556 0.00506586649559 {'kernel': 'poly', 'C': 10, 'degree': 3}\n",
      "0.00378348574932 0.00637455117658 {'kernel': 'poly', 'C': 10, 'degree': 4}\n",
      "0.00641200792315 0.0156368018802 {'kernel': 'poly', 'C': 10, 'degree': 5}\n",
      "0.316284443092 0.0527897646102 {'kernel': 'poly', 'C': 100, 'degree': 2}\n",
      "0.00323478141556 0.00506586649559 {'kernel': 'poly', 'C': 100, 'degree': 3}\n",
      "0.00378348574932 0.00637455117658 {'kernel': 'poly', 'C': 100, 'degree': 4}\n",
      "0.00641200792315 0.0156368018802 {'kernel': 'poly', 'C': 100, 'degree': 5}\n",
      "0.709757532655 0.0272757282163 {'kernel': 'poly', 'C': 1000, 'degree': 2}\n",
      "0.0401531920875 0.0279345722588 {'kernel': 'poly', 'C': 1000, 'degree': 3}\n",
      "0.00378348574932 0.00637455117658 {'kernel': 'poly', 'C': 1000, 'degree': 4}\n",
      "0.00641200792315 0.0156368018802 {'kernel': 'poly', 'C': 1000, 'degree': 5}\n",
      "# Tuning hyper-parameters for: recall\n",
      "Best parameters set found on development set:\n",
      "{'kernel': 'rbf', 'C': 1000, 'gamma': 0.001}\n",
      "Grid scores on development set:\n",
      "0.0435931307794 0.0293351497074 {'kernel': 'rbf', 'C': 1, 'gamma': 0.001}\n",
      "0.0435931307794 0.0293351497074 {'kernel': 'rbf', 'C': 1, 'gamma': 0.0001}\n",
      "0.587406428886 0.0236575924861 {'kernel': 'rbf', 'C': 10, 'gamma': 0.001}\n",
      "0.0435931307794 0.0293351497074 {'kernel': 'rbf', 'C': 10, 'gamma': 0.0001}\n",
      "0.690885072655 0.0249616452179 {'kernel': 'rbf', 'C': 100, 'gamma': 0.001}\n",
      "0.589167767503 0.0227285178847 {'kernel': 'rbf', 'C': 100, 'gamma': 0.0001}\n",
      "0.692646411273 0.0395416077255 {'kernel': 'rbf', 'C': 1000, 'gamma': 0.001}\n",
      "0.691765741964 0.0239043448837 {'kernel': 'rbf', 'C': 1000, 'gamma': 0.0001}\n",
      "0.689564068692 0.0341494946339 {'kernel': 'linear', 'C': 1}\n",
      "0.683399383531 0.0397427435513 {'kernel': 'linear', 'C': 10}\n",
      "0.680317040951 0.0364410220214 {'kernel': 'linear', 'C': 100}\n",
      "0.680317040951 0.0364410220214 {'kernel': 'linear', 'C': 1000}\n",
      "0.0444738000881 0.0282650631393 {'kernel': 'poly', 'C': 1, 'degree': 2}\n",
      "0.0431527961251 0.0252046297071 {'kernel': 'poly', 'C': 1, 'degree': 3}\n",
      "0.0409511228534 0.0187774140988 {'kernel': 'poly', 'C': 1, 'degree': 4}\n",
      "0.039189784236 0.0158846285231 {'kernel': 'poly', 'C': 1, 'degree': 5}\n",
      "0.0444738000881 0.0282650631393 {'kernel': 'poly', 'C': 10, 'degree': 2}\n",
      "0.0431527961251 0.0252046297071 {'kernel': 'poly', 'C': 10, 'degree': 3}\n",
      "0.0409511228534 0.0187774140988 {'kernel': 'poly', 'C': 10, 'degree': 4}\n",
      "0.039189784236 0.0158846285231 {'kernel': 'poly', 'C': 10, 'degree': 5}\n",
      "0.331571994716 0.0237906073145 {'kernel': 'poly', 'C': 100, 'degree': 2}\n",
      "0.0431527961251 0.0252046297071 {'kernel': 'poly', 'C': 100, 'degree': 3}\n",
      "0.0409511228534 0.0187774140988 {'kernel': 'poly', 'C': 100, 'degree': 4}\n",
      "0.039189784236 0.0158846285231 {'kernel': 'poly', 'C': 100, 'degree': 5}\n",
      "0.688243064729 0.0258953974287 {'kernel': 'poly', 'C': 1000, 'degree': 2}\n",
      "0.0642888595332 0.0246545898582 {'kernel': 'poly', 'C': 1000, 'degree': 3}\n",
      "0.0409511228534 0.0187774140988 {'kernel': 'poly', 'C': 1000, 'degree': 4}\n",
      "0.039189784236 0.0158846285231 {'kernel': 'poly', 'C': 1000, 'degree': 5}\n"
     ]
    },
    {
     "name": "stderr",
     "output_type": "stream",
     "text": [
      "/Library/Python/2.7/site-packages/sklearn/metrics/classification.py:958: UndefinedMetricWarning: Precision is ill-defined and being set to 0.0 in labels with no predicted samples.\n",
      "  'precision', 'predicted', average, warn_for)\n"
     ]
    }
   ],
   "source": [
    "tuned_parameters = [{'kernel': ['rbf'], 'gamma': [1e-3, 1e-4],\n",
    "                     'C': [1, 10, 100, 1000]},\n",
    "                    {'kernel': ['linear'], 'C': [1, 10, 100, 1000]},\n",
    "                   {'kernel': ['poly'], 'degree': [2, 3, 4 , 5],\n",
    "                     'C': [1, 10, 100, 1000]}]\n",
    "\n",
    "scores = ['precision', 'recall']\n",
    "\n",
    "for score in scores:\n",
    "    print\"# Tuning hyper-parameters for:\", score\n",
    "\n",
    "    clf = GridSearchCV(SVC(C=1), tuned_parameters, cv=5,\n",
    "                       scoring='%s_weighted' % score)\n",
    "    clf.fit(X_train, y_train)\n",
    "\n",
    "    print \"Best parameters set found on development set:\"\n",
    "    print clf.best_params_\n",
    "    print \"Grid scores on development set:\"\n",
    "    for params, mean_score, scores in clf.grid_scores_:\n",
    "        print mean_score, scores.std() * 2, params"
   ]
  },
  {
   "cell_type": "code",
   "execution_count": 55,
   "metadata": {
    "collapsed": true
   },
   "outputs": [],
   "source": [
    "pca = PCA(n_components=150)\n",
    "pca.fit(image_df)\n",
    "X = pca.transform(image_df)"
   ]
  },
  {
   "cell_type": "code",
   "execution_count": 56,
   "metadata": {
    "collapsed": true
   },
   "outputs": [],
   "source": [
    "X_train, X_test, y_train, y_test = train_test_split(X, target, test_size=0.2)"
   ]
  },
  {
   "cell_type": "code",
   "execution_count": 57,
   "metadata": {
    "collapsed": false
   },
   "outputs": [
    {
     "data": {
      "text/plain": [
       "SVC(C=10, cache_size=200, class_weight='auto', coef0=0.0, degree=2, gamma=0.0,\n",
       "  kernel='poly', max_iter=-1, probability=False, random_state=None,\n",
       "  shrinking=True, tol=0.001, verbose=False)"
      ]
     },
     "execution_count": 57,
     "metadata": {},
     "output_type": "execute_result"
    }
   ],
   "source": [
    "svm = SVC(kernel='poly', degree=2, C=10, class_weight='auto')\n",
    "svm.fit(X_train, y_train)"
   ]
  },
  {
   "cell_type": "code",
   "execution_count": 58,
   "metadata": {
    "collapsed": false
   },
   "outputs": [],
   "source": [
    "y_pred = svm.predict(X_test)"
   ]
  },
  {
   "cell_type": "code",
   "execution_count": 59,
   "metadata": {
    "collapsed": false
   },
   "outputs": [
    {
     "name": "stdout",
     "output_type": "stream",
     "text": [
      "Confusion matrix, without normalization\n",
      "[[ 0  5  0 ...,  0  0  0]\n",
      " [ 0  6  0 ...,  0  0  0]\n",
      " [ 0 10  0 ...,  0  0  0]\n",
      " ..., \n",
      " [ 0  1  0 ...,  0  0  0]\n",
      " [ 0  5  0 ...,  0  0  0]\n",
      " [ 0  4  0 ...,  0  0  0]]\n"
     ]
    },
    {
     "data": {
      "image/png": "[encoded data removed]",
      "text/plain": [
       "<matplotlib.figure.Figure at 0x10e481190>"
      ]
     },
     "metadata": {},
     "output_type": "display_data"
    }
   ],
   "source": [
    "cm = confusion_matrix(y_test, y_pred)\n",
    "np.set_printoptions(precision=2)\n",
    "print('Confusion matrix, without normalization')\n",
    "print(cm)\n",
    "plt.figure(figsize=(10,10))\n",
    "plot_confusion_matrix(cm)"
   ]
  },
  {
   "cell_type": "code",
   "execution_count": 53,
   "metadata": {
    "collapsed": false
   },
   "outputs": [
    {
     "data": {
      "text/plain": [
       "0.99735799207397624"
      ]
     },
     "execution_count": 53,
     "metadata": {},
     "output_type": "execute_result"
    }
   ],
   "source": [
    "svm.score(X_train, y_train)"
   ]
  },
  {
   "cell_type": "code",
   "execution_count": 54,
   "metadata": {
    "collapsed": false
   },
   "outputs": [
    {
     "data": {
      "text/plain": [
       "0.55809859154929575"
      ]
     },
     "execution_count": 54,
     "metadata": {},
     "output_type": "execute_result"
    }
   ],
   "source": [
    "svm.score(X_test, y_test)"
   ]
  },
  {
   "cell_type": "code",
   "execution_count": 49,
   "metadata": {
    "collapsed": false
   },
   "outputs": [
    {
     "name": "stdout",
     "output_type": "stream",
     "text": [
      "# Tuning hyper-parameters for: precision\n",
      "Best parameters set found on development set:\n",
      "{'kernel': 'poly', 'C': 10, 'degree': 2}\n",
      "Grid scores on development set:\n",
      "0.492533491334 0.0313634477998 {'kernel': 'rbf', 'C': 1, 'gamma': 0.001}\n",
      "0.00979166094507 0.0236476897224 {'kernel': 'rbf', 'C': 1, 'gamma': 0.0001}\n",
      "0.641732498283 0.025265387045 {'kernel': 'rbf', 'C': 10, 'gamma': 0.001}\n",
      "0.503871218973 0.0472411398335 {'kernel': 'rbf', 'C': 10, 'gamma': 0.0001}\n",
      "0.634956431357 0.0377903436684 {'kernel': 'rbf', 'C': 100, 'gamma': 0.001}\n",
      "0.62882631948 0.015460617964 {'kernel': 'rbf', 'C': 100, 'gamma': 0.0001}\n",
      "0.634633042724 0.0369553357959 {'kernel': 'rbf', 'C': 1000, 'gamma': 0.001}\n",
      "0.617253293211 0.0193044586587 {'kernel': 'rbf', 'C': 1000, 'gamma': 0.0001}\n",
      "0.60756934 0.0152164655831 {'kernel': 'linear', 'C': 1}\n",
      "0.60756934 0.0152164655831 {'kernel': 'linear', 'C': 10}\n",
      "0.60756934 0.0152164655831 {'kernel': 'linear', 'C': 100}\n",
      "0.60756934 0.0152164655831 {'kernel': 'linear', 'C': 1000}\n",
      "0.624539948044 0.0401548338406 {'kernel': 'poly', 'C': 1, 'degree': 2}\n",
      "0.365503120115 0.0325234929197 {'kernel': 'poly', 'C': 1, 'degree': 3}\n",
      "0.149677016352 0.0707967081079 {'kernel': 'poly', 'C': 1, 'degree': 4}\n",
      "0.0776170815369 0.0480848026043 {'kernel': 'poly', 'C': 1, 'degree': 5}\n",
      "0.673210235414 0.0373457921163 {'kernel': 'poly', 'C': 10, 'degree': 2}\n",
      "0.634558206709 0.0252330471243 {'kernel': 'poly', 'C': 10, 'degree': 3}\n",
      "0.498074685632 0.0343811499701 {'kernel': 'poly', 'C': 10, 'degree': 4}\n",
      "0.281293431866 0.103783950483 {'kernel': 'poly', 'C': 10, 'degree': 5}\n",
      "0.669300685562 0.0397458770575 {'kernel': 'poly', 'C': 100, 'degree': 2}\n",
      "0.647032818852 0.0788683364617 {'kernel': 'poly', 'C': 100, 'degree': 3}\n",
      "0.503116595617 0.0403136166742 {'kernel': 'poly', 'C': 100, 'degree': 4}\n",
      "0.348277832566 0.055633204122 {'kernel': 'poly', 'C': 100, 'degree': 5}\n",
      "0.669300685562 0.0397458770575 {'kernel': 'poly', 'C': 1000, 'degree': 2}\n",
      "0.623195782977 0.0753369221284 {'kernel': 'poly', 'C': 1000, 'degree': 3}\n",
      "0.494701219665 0.0470236686944 {'kernel': 'poly', 'C': 1000, 'degree': 4}\n",
      "0.340518669194 0.0597306777857 {'kernel': 'poly', 'C': 1000, 'degree': 5}\n",
      "# Tuning hyper-parameters for: recall\n",
      "Best parameters set found on development set:\n",
      "{'kernel': 'rbf', 'C': 10, 'gamma': 0.001}\n",
      "Grid scores on development set:\n",
      "0.445618670189 0.0106156096109 {'kernel': 'rbf', 'C': 1, 'gamma': 0.001}\n",
      "0.0664905328049 0.0540727749165 {'kernel': 'rbf', 'C': 1, 'gamma': 0.0001}\n",
      "0.620871862616 0.0196819889631 {'kernel': 'rbf', 'C': 10, 'gamma': 0.001}\n",
      "0.488771466314 0.0233106307729 {'kernel': 'rbf', 'C': 10, 'gamma': 0.0001}\n",
      "0.614266842801 0.0290861346609 {'kernel': 'rbf', 'C': 100, 'gamma': 0.001}\n",
      "0.602377807133 0.0120069741459 {'kernel': 'rbf', 'C': 100, 'gamma': 0.0001}\n",
      "0.613826508146 0.0290806948327 {'kernel': 'rbf', 'C': 1000, 'gamma': 0.001}\n",
      "0.592250110084 0.0172079950444 {'kernel': 'rbf', 'C': 1000, 'gamma': 0.0001}\n",
      "0.585645090269 0.017206027103 {'kernel': 'linear', 'C': 1}\n",
      "0.585645090269 0.017206027103 {'kernel': 'linear', 'C': 10}\n",
      "0.585645090269 0.017206027103 {'kernel': 'linear', 'C': 100}\n",
      "0.585645090269 0.017206027103 {'kernel': 'linear', 'C': 1000}\n",
      "0.490092470277 0.0415264961972 {'kernel': 'poly', 'C': 1, 'degree': 2}\n",
      "0.140026420079 0.0203705752314 {'kernel': 'poly', 'C': 1, 'degree': 3}\n",
      "0.0559225011008 0.0210234789981 {'kernel': 'poly', 'C': 1, 'degree': 4}\n",
      "0.0347864376926 0.0106719178661 {'kernel': 'poly', 'C': 1, 'degree': 5}\n",
      "0.546895640687 0.0265738673385 {'kernel': 'poly', 'C': 10, 'degree': 2}\n",
      "0.321003963012 0.037772564174 {'kernel': 'poly', 'C': 10, 'degree': 3}\n",
      "0.14927344782 0.0296628759936 {'kernel': 'poly', 'C': 10, 'degree': 4}\n",
      "0.0673712021136 0.0157296989525 {'kernel': 'poly', 'C': 10, 'degree': 5}\n",
      "0.549977983267 0.0355583101836 {'kernel': 'poly', 'C': 100, 'degree': 2}\n",
      "0.301629238221 0.0394286647657 {'kernel': 'poly', 'C': 100, 'degree': 3}\n",
      "0.148833113166 0.0109226912364 {'kernel': 'poly', 'C': 100, 'degree': 4}\n",
      "0.0937912813738 0.0181330476066 {'kernel': 'poly', 'C': 100, 'degree': 5}\n",
      "0.549977983267 0.0355583101836 {'kernel': 'poly', 'C': 1000, 'degree': 2}\n",
      "0.31571994716 0.0316890301283 {'kernel': 'poly', 'C': 1000, 'degree': 3}\n",
      "0.152796125055 0.0141634267228 {'kernel': 'poly', 'C': 1000, 'degree': 4}\n",
      "0.0885072655218 0.00961211013448 {'kernel': 'poly', 'C': 1000, 'degree': 5}\n"
     ]
    },
    {
     "name": "stderr",
     "output_type": "stream",
     "text": [
      "/Library/Python/2.7/site-packages/sklearn/metrics/classification.py:958: UndefinedMetricWarning: Precision is ill-defined and being set to 0.0 in labels with no predicted samples.\n",
      "  'precision', 'predicted', average, warn_for)\n"
     ]
    }
   ],
   "source": [
    "tuned_parameters = [{'kernel': ['rbf'], 'gamma': [1e-3, 1e-4],\n",
    "                     'C': [1, 10, 100, 1000]},\n",
    "                    {'kernel': ['linear'], 'C': [1, 10, 100, 1000]},\n",
    "                   {'kernel': ['poly'], 'degree': [2, 3, 4 , 5],\n",
    "                     'C': [1, 10, 100, 1000]}]\n",
    "\n",
    "scores = ['precision', 'recall']\n",
    "\n",
    "for score in scores:\n",
    "    print\"# Tuning hyper-parameters for:\", score\n",
    "\n",
    "    clf = GridSearchCV(SVC(C=1), tuned_parameters, cv=5,\n",
    "                       scoring='%s_weighted' % score)\n",
    "    clf.fit(X_train, y_train)\n",
    "\n",
    "    print \"Best parameters set found on development set:\"\n",
    "    print clf.best_params_\n",
    "    print \"Grid scores on development set:\"\n",
    "    for params, mean_score, scores in clf.grid_scores_:\n",
    "        print mean_score, scores.std() * 2, params"
   ]
  },
  {
   "cell_type": "code",
   "execution_count": 19,
   "metadata": {
    "collapsed": false
   },
   "outputs": [
    {
     "data": {
      "text/html": [
       "<div style=\"max-height:1000px;max-width:1500px;overflow:auto;\">\n",
       "<table border=\"1\" class=\"dataframe\">\n",
       "  <thead>\n",
       "    <tr style=\"text-align: right;\">\n",
       "      <th></th>\n",
       "      <th>0</th>\n",
       "      <th>1</th>\n",
       "      <th>2</th>\n",
       "      <th>3</th>\n",
       "      <th>4</th>\n",
       "      <th>5</th>\n",
       "      <th>6</th>\n",
       "      <th>7</th>\n",
       "      <th>8</th>\n",
       "      <th>9</th>\n",
       "      <th>...</th>\n",
       "      <th>q</th>\n",
       "      <th>r</th>\n",
       "      <th>s</th>\n",
       "      <th>t</th>\n",
       "      <th>u</th>\n",
       "      <th>v</th>\n",
       "      <th>w</th>\n",
       "      <th>x</th>\n",
       "      <th>y</th>\n",
       "      <th>z</th>\n",
       "    </tr>\n",
       "  </thead>\n",
       "  <tbody>\n",
       "    <tr>\n",
       "      <th>0</th>\n",
       "      <td>8</td>\n",
       "      <td>0</td>\n",
       "      <td>0</td>\n",
       "      <td>0</td>\n",
       "      <td>0</td>\n",
       "      <td>0</td>\n",
       "      <td>0</td>\n",
       "      <td>0</td>\n",
       "      <td>0</td>\n",
       "      <td>0</td>\n",
       "      <td>...</td>\n",
       "      <td>0</td>\n",
       "      <td>0</td>\n",
       "      <td>0</td>\n",
       "      <td>0</td>\n",
       "      <td>0</td>\n",
       "      <td>0</td>\n",
       "      <td>0</td>\n",
       "      <td>0</td>\n",
       "      <td>0</td>\n",
       "      <td>0</td>\n",
       "    </tr>\n",
       "    <tr>\n",
       "      <th>1</th>\n",
       "      <td>0</td>\n",
       "      <td>4</td>\n",
       "      <td>0</td>\n",
       "      <td>0</td>\n",
       "      <td>0</td>\n",
       "      <td>0</td>\n",
       "      <td>0</td>\n",
       "      <td>0</td>\n",
       "      <td>0</td>\n",
       "      <td>0</td>\n",
       "      <td>...</td>\n",
       "      <td>0</td>\n",
       "      <td>0</td>\n",
       "      <td>0</td>\n",
       "      <td>0</td>\n",
       "      <td>0</td>\n",
       "      <td>0</td>\n",
       "      <td>0</td>\n",
       "      <td>0</td>\n",
       "      <td>0</td>\n",
       "      <td>0</td>\n",
       "    </tr>\n",
       "    <tr>\n",
       "      <th>2</th>\n",
       "      <td>0</td>\n",
       "      <td>0</td>\n",
       "      <td>8</td>\n",
       "      <td>0</td>\n",
       "      <td>0</td>\n",
       "      <td>0</td>\n",
       "      <td>0</td>\n",
       "      <td>0</td>\n",
       "      <td>0</td>\n",
       "      <td>0</td>\n",
       "      <td>...</td>\n",
       "      <td>0</td>\n",
       "      <td>1</td>\n",
       "      <td>0</td>\n",
       "      <td>0</td>\n",
       "      <td>0</td>\n",
       "      <td>0</td>\n",
       "      <td>0</td>\n",
       "      <td>0</td>\n",
       "      <td>0</td>\n",
       "      <td>0</td>\n",
       "    </tr>\n",
       "    <tr>\n",
       "      <th>3</th>\n",
       "      <td>0</td>\n",
       "      <td>0</td>\n",
       "      <td>0</td>\n",
       "      <td>6</td>\n",
       "      <td>0</td>\n",
       "      <td>0</td>\n",
       "      <td>1</td>\n",
       "      <td>0</td>\n",
       "      <td>0</td>\n",
       "      <td>0</td>\n",
       "      <td>...</td>\n",
       "      <td>0</td>\n",
       "      <td>0</td>\n",
       "      <td>0</td>\n",
       "      <td>0</td>\n",
       "      <td>0</td>\n",
       "      <td>0</td>\n",
       "      <td>0</td>\n",
       "      <td>0</td>\n",
       "      <td>0</td>\n",
       "      <td>0</td>\n",
       "    </tr>\n",
       "    <tr>\n",
       "      <th>4</th>\n",
       "      <td>0</td>\n",
       "      <td>0</td>\n",
       "      <td>0</td>\n",
       "      <td>0</td>\n",
       "      <td>5</td>\n",
       "      <td>0</td>\n",
       "      <td>0</td>\n",
       "      <td>0</td>\n",
       "      <td>0</td>\n",
       "      <td>0</td>\n",
       "      <td>...</td>\n",
       "      <td>0</td>\n",
       "      <td>0</td>\n",
       "      <td>0</td>\n",
       "      <td>0</td>\n",
       "      <td>0</td>\n",
       "      <td>0</td>\n",
       "      <td>0</td>\n",
       "      <td>0</td>\n",
       "      <td>0</td>\n",
       "      <td>0</td>\n",
       "    </tr>\n",
       "  </tbody>\n",
       "</table>\n",
       "<p>5 rows × 62 columns</p>\n",
       "</div>"
      ],
      "text/plain": [
       "   0  1  2  3  4  5  6  7  8  9 ...  q  r  s  t  u  v  w  x  y  z\n",
       "0  8  0  0  0  0  0  0  0  0  0 ...  0  0  0  0  0  0  0  0  0  0\n",
       "1  0  4  0  0  0  0  0  0  0  0 ...  0  0  0  0  0  0  0  0  0  0\n",
       "2  0  0  8  0  0  0  0  0  0  0 ...  0  1  0  0  0  0  0  0  0  0\n",
       "3  0  0  0  6  0  0  1  0  0  0 ...  0  0  0  0  0  0  0  0  0  0\n",
       "4  0  0  0  0  5  0  0  0  0  0 ...  0  0  0  0  0  0  0  0  0  0\n",
       "\n",
       "[5 rows x 62 columns]"
      ]
     },
     "execution_count": 19,
     "metadata": {},
     "output_type": "execute_result"
    }
   ],
   "source": [
    "confusion_matrix = pd.read_csv('confusion_matrix.csv', index_col= 0)\n",
    "#confusion_matrix.drop(confusion_matrix.columns[0], axis=1, inplace = True)\n",
    "confusion_matrix.head()"
   ]
  },
  {
   "cell_type": "code",
   "execution_count": 20,
   "metadata": {
    "collapsed": false
   },
   "outputs": [
    {
     "name": "stdout",
     "output_type": "stream",
     "text": [
      "[['0', ('0', 8), ('o', 2), ('n', 1), ('1', 0), ('2', 0)], ['1', ('1', 4), ('I', 1), ('l', 1), ('0', 0), ('2', 0)], ['2', ('2', 8), ('l', 1), ('r', 1), ('0', 0), ('1', 0)], ['3', ('3', 6), ('6', 1), ('l', 1), ('0', 0), ('1', 0)], ['4', ('4', 5), ('l', 2), ('W', 1), ('0', 0), ('1', 0)], ['5', ('5', 7), ('6', 1), ('l', 1), ('s', 1), ('0', 0)], ['6', ('6', 6), ('1', 1), ('5', 1), ('8', 1), ('W', 1)], ['7', ('7', 9), ('z', 1), ('0', 0), ('1', 0), ('2', 0)], ['8', ('8', 2), ('e', 1), ('t', 1), ('0', 0), ('1', 0)], ['9', ('9', 2), ('3', 1), ('6', 1), ('O', 1), ('0', 0)], ['A', ('A', 6), ('0', 0), ('1', 0), ('2', 0), ('3', 0)], ['B', ('B', 5), ('7', 1), ('8', 1), ('0', 0), ('1', 0)], ['C', ('C', 3), ('c', 2), ('p', 1), ('0', 0), ('1', 0)], ['D', ('D', 8), ('o', 4), ('0', 0), ('1', 0), ('2', 0)], ['E', ('E', 15), ('F', 1), ('0', 0), ('1', 0), ('2', 0)], ['F', ('F', 9), ('0', 0), ('1', 0), ('2', 0), ('3', 0)], ['G', ('G', 7), ('6', 1), ('C', 1), ('x', 1), ('0', 0)], ['H', ('H', 14), ('M', 1), ('b', 1), ('0', 0), ('1', 0)], ['I', ('l', 5), ('I', 4), ('0', 0), ('1', 0), ('2', 0)], ['J', ('J', 8), ('I', 2), ('7', 1), ('0', 0), ('1', 0)], ['K', ('K', 10), ('A', 1), ('X', 1), ('i', 1), ('0', 0)], ['L', ('L', 6), ('J', 1), ('V', 1), ('0', 0), ('1', 0)], ['M', ('M', 9), ('0', 0), ('1', 0), ('2', 0), ('3', 0)], ['N', ('N', 14), ('E', 1), ('M', 1), ('0', 0), ('1', 0)], ['O', ('O', 4), ('0', 2), ('o', 2), ('Q', 1), ('c', 1)], ['P', ('P', 6), ('F', 3), ('p', 2), ('Y', 1), ('0', 0)], ['Q', ('Q', 3), ('1', 1), ('0', 0), ('2', 0), ('3', 0)], ['R', ('R', 7), ('P', 2), ('6', 1), ('k', 1), ('l', 1)], ['S', ('S', 5), ('s', 3), ('5', 1), ('i', 1), ('l', 1)], ['T', ('T', 6), ('1', 1), ('0', 0), ('2', 0), ('3', 0)], ['U', ('U', 5), ('u', 2), ('0', 0), ('1', 0), ('2', 0)], ['V', ('V', 11), ('v', 2), ('l', 1), ('0', 0), ('1', 0)], ['W', ('W', 7), ('H', 1), ('l', 1), ('m', 1), ('0', 0)], ['X', ('X', 7), ('x', 2), ('l', 1), ('0', 0), ('1', 0)], ['Y', ('Y', 8), ('1', 1), ('G', 1), ('I', 1), ('0', 0)], ['Z', ('Z', 5), ('z', 3), ('1', 1), ('2', 1), ('7', 1)], ['a', ('a', 8), ('o', 1), ('0', 0), ('1', 0), ('2', 0)], ['b', ('b', 5), ('0', 0), ('1', 0), ('2', 0), ('3', 0)], ['c', ('C', 4), ('c', 3), ('0', 0), ('1', 0), ('2', 0)], ['d', ('d', 5), ('D', 1), ('J', 1), ('X', 1), ('0', 0)], ['e', ('e', 9), ('4', 1), ('0', 0), ('1', 0), ('2', 0)], ['f', ('f', 5), ('n', 1), ('t', 1), ('0', 0), ('1', 0)], ['g', ('g', 5), ('p', 1), ('0', 0), ('1', 0), ('2', 0)], ['h', ('h', 11), ('H', 1), ('b', 1), ('0', 0), ('1', 0)], ['i', ('i', 5), ('0', 0), ('1', 0), ('2', 0), ('3', 0)], ['j', ('1', 3), ('J', 2), ('i', 2), ('I', 1), ('g', 1)], ['k', ('k', 5), ('l', 1), ('0', 0), ('1', 0), ('2', 0)], ['l', ('I', 7), ('l', 6), ('0', 0), ('1', 0), ('2', 0)], ['m', ('m', 10), ('M', 1), ('0', 0), ('1', 0), ('2', 0)], ['n', ('n', 8), ('0', 0), ('1', 0), ('2', 0), ('3', 0)], ['o', ('o', 5), ('0', 1), ('C', 1), ('c', 1), ('1', 0)], ['p', ('p', 4), ('e', 1), ('f', 1), ('y', 1), ('0', 0)], ['q', ('q', 4), ('1', 1), ('R', 1), ('X', 1), ('l', 1)], ['r', ('r', 9), ('0', 0), ('1', 0), ('2', 0), ('3', 0)], ['s', ('s', 12), ('S', 2), ('0', 0), ('1', 0), ('2', 0)], ['t', ('t', 10), ('0', 0), ('1', 0), ('2', 0), ('3', 0)], ['u', ('U', 5), ('u', 3), ('0', 0), ('1', 0), ('2', 0)], ['v', ('V', 2), ('v', 1), ('0', 0), ('1', 0), ('2', 0)], ['w', ('w', 4), ('W', 3), ('K', 1), ('N', 1), ('0', 0)], ['x', ('X', 5), ('1', 1), ('I', 1), ('l', 1), ('r', 1)], ['y', ('1', 3), ('y', 2), ('0', 0), ('2', 0), ('3', 0)], ['z', ('z', 2), ('I', 1), ('d', 1), ('u', 1), ('0', 0)]]\n"
     ]
    }
   ],
   "source": [
    "top_list = []\n",
    "for row in confusion_matrix.iterrows():\n",
    "    largest = row[1].nlargest(5)\n",
    "    top_list.append([row[0]]+[i for i in largest.iteritems()])\n",
    "print top_list"
   ]
  },
  {
   "cell_type": "code",
   "execution_count": 34,
   "metadata": {
    "collapsed": false
   },
   "outputs": [
    {
     "data": {
      "text/plain": [
       "0    11\n",
       "1     6\n",
       "2    10\n",
       "3     8\n",
       "4     8\n",
       "5    10\n",
       "6    11\n",
       "7    10\n",
       "8     4\n",
       "9     5\n",
       "A     6\n",
       "B     7\n",
       "C     6\n",
       "D    12\n",
       "E    16\n",
       "F     9\n",
       "G    10\n",
       "H    16\n",
       "I     9\n",
       "J    11\n",
       "K    13\n",
       "L     8\n",
       "M     9\n",
       "N    16\n",
       "O    10\n",
       "P    12\n",
       "Q     4\n",
       "R    12\n",
       "S    11\n",
       "T     7\n",
       "     ..\n",
       "W    10\n",
       "X    10\n",
       "Y    11\n",
       "Z    14\n",
       "a     9\n",
       "b     5\n",
       "c     7\n",
       "d     8\n",
       "e    10\n",
       "f     7\n",
       "g     6\n",
       "h    13\n",
       "i     5\n",
       "j    10\n",
       "k     6\n",
       "l    13\n",
       "m    11\n",
       "n     8\n",
       "o     8\n",
       "p     7\n",
       "q     9\n",
       "r     9\n",
       "s    14\n",
       "t    10\n",
       "u     8\n",
       "v     3\n",
       "w     9\n",
       "x    10\n",
       "y     5\n",
       "z     5\n",
       "dtype: int64"
      ]
     },
     "execution_count": 34,
     "metadata": {},
     "output_type": "execute_result"
    }
   ],
   "source": [
    "confusion_matrix.sum(axis=1)"
   ]
  },
  {
   "cell_type": "code",
   "execution_count": 35,
   "metadata": {
    "collapsed": true
   },
   "outputs": [],
   "source": [
    "def donut_chart(sizes, explode, labels, colors):\n",
    "    plt.pie(sizes, explode=explode, labels=labels, colors=colors,\n",
    "        autopct='%1.1f%%', shadow=True)\n",
    "        \n",
    "    #draw a circle at the center of pie to make it look like a donut\n",
    "    centre_circle = plt.Circle((0,0),0.75,color='black', fc='white',linewidth=1.25)\n",
    "    fig = plt.gcf()\n",
    "    fig.gca().add_artist(centre_circle)\n",
    "\n",
    "\n",
    "    # Set aspect ratio to be equal so that pie is drawn as a circle.\n",
    "    plt.axis('equal')\n",
    "    plt.show()  "
   ]
  },
  {
   "cell_type": "code",
   "execution_count": 53,
   "metadata": {
    "collapsed": false
   },
   "outputs": [],
   "source": [
    "labels = 'v', 'V'\n",
    "sizes = [1, 2]\n",
    "colors = ['yellowgreen','lightskyblue']\n",
    "explode = (0, 0)"
   ]
  },
  {
   "cell_type": "code",
   "execution_count": 54,
   "metadata": {
    "collapsed": false
   },
   "outputs": [],
   "source": [
    "donut_chart(sizes, explode, labels, colors)"
   ]
  },
  {
   "cell_type": "code",
   "execution_count": 31,
   "metadata": {
    "collapsed": false
   },
   "outputs": [
    {
     "name": "stdout",
     "output_type": "stream",
     "text": [
      "[['0', '0', 'n', 'o'], ['1', '1', 'I', 'l'], ['2', '2', 'l', 'r'], ['3', '3', '6', 'l'], ['4', '4', 'W', 'l'], ['5', '5', '6', 'l', 's'], ['6', '1', '5', '6', '8', 'W', 'l'], ['7', '7', 'z'], ['8', '8', 'e', 't'], ['9', '3', '6', '9', 'O'], ['A', 'A'], ['B', '7', '8', 'B'], ['C', 'C', 'c', 'p'], ['D', 'D', 'o'], ['E', 'E', 'F'], ['F', 'F'], ['G', '6', 'C', 'G', 'x'], ['H', 'H', 'M', 'b'], ['I', 'I', 'l'], ['J', '7', 'I', 'J'], ['K', 'A', 'K', 'X', 'i'], ['L', 'J', 'L', 'V'], ['M', 'M'], ['N', 'E', 'M', 'N'], ['O', '0', 'O', 'Q', 'c', 'o'], ['P', 'F', 'P', 'Y', 'p'], ['Q', '1', 'Q'], ['R', '6', 'P', 'R', 'k', 'l'], ['S', '5', 'S', 'i', 'l', 's'], ['T', '1', 'T'], ['U', 'U', 'u'], ['V', 'V', 'l', 'v'], ['W', 'H', 'W', 'l', 'm'], ['X', 'X', 'l', 'x'], ['Y', '1', 'G', 'I', 'Y'], ['Z', '1', '2', '7', 'N', 'Z', 'i', 'p', 'z'], ['a', 'a', 'o'], ['b', 'b'], ['c', 'C', 'c'], ['d', 'D', 'J', 'X', 'd'], ['e', '4', 'e'], ['f', 'f', 'n', 't'], ['g', 'g', 'p'], ['h', 'H', 'b', 'h'], ['i', 'i'], ['j', '1', 'I', 'J', 'g', 'i', 'p'], ['k', 'k', 'l'], ['l', 'I', 'l'], ['m', 'M', 'm'], ['n', 'n'], ['o', '0', 'C', 'c', 'o'], ['p', 'e', 'f', 'p', 'y'], ['q', '1', 'R', 'X', 'l', 'p', 'q'], ['r', 'r'], ['s', 'S', 's'], ['t', 't'], ['u', 'U', 'u'], ['v', 'V', 'v'], ['w', 'K', 'N', 'W', 'w'], ['x', '1', 'I', 'X', 'l', 'r', 'x'], ['y', '1', 'y'], ['z', 'I', 'd', 'u', 'z']]\n"
     ]
    }
   ],
   "source": [
    "non_zero = []\n",
    "chars = {str(index):char for index, char in enumerate(target_names)}\n",
    "for row in confusion_matrix.iterrows():\n",
    "    nz = list(row[1].nonzero()[0])\n",
    "    non_zero.append([row[0]]+[chars[str(i)] for i in nz])\n",
    "print non_zero"
   ]
  },
  {
   "cell_type": "code",
   "execution_count": null,
   "metadata": {
    "collapsed": true
   },
   "outputs": [],
   "source": []
  }
 ],
 "metadata": {
  "kernelspec": {
   "display_name": "Python 2",
   "language": "python",
   "name": "python2"
  },
  "language_info": {
   "codemirror_mode": {
    "name": "ipython",
    "version": 2
   },
   "file_extension": ".py",
   "mimetype": "text/x-python",
   "name": "python",
   "nbconvert_exporter": "python",
   "pygments_lexer": "ipython2",
   "version": "2.7.6"
  }
 },
 "nbformat": 4,
 "nbformat_minor": 0
}
